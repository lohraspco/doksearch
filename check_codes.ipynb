{
 "cells": [
  {
   "cell_type": "code",
   "execution_count": null,
   "id": "22e74f63",
   "metadata": {},
   "outputs": [],
   "source": [
    "from vector_store import VectorStore\n",
    "vs = VectorStore()\n",
    "stats = vs.get_collection_stats()\n",
    "print('Collection stats:', stats)\n",
    "docs = vs.get_all_documents(limit=5)\n",
    "print(f'Found {len(docs)} documents')\n",
    "for doc in docs[:3]:\n",
    "    print(f'{doc[\"metadata\"][\"file_name\"]} (page {doc[\"metadata\"][\"page\"]})')"
   ]
  }
 ],
 "metadata": {
  "kernelspec": {
   "display_name": "ragvenv",
   "language": "python",
   "name": "python3"
  },
  "language_info": {
   "name": "python",
   "version": "3.12.3"
  }
 },
 "nbformat": 4,
 "nbformat_minor": 5
}
