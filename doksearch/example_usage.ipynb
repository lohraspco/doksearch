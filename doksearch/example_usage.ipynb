{
 "cells": [
  {
   "cell_type": "code",
   "execution_count": 17,
   "id": "7541a400",
   "metadata": {},
   "outputs": [],
   "source": [
    "import os\n",
    "import pandas as pd\n",
    "import numpy as np\n",
    "from pathlib import Path\n",
    "import json\n",
    "\n",
    "\n",
    "import fitz\n",
    "import logging\n",
    "from langchain.schema import Document\n",
    "from langchain.text_splitter import RecursiveCharacterTextSplitter\n",
    "from langchain_community.vectorstores import FAISS\n",
    "from langchain_community.embeddings import HuggingFaceEmbeddings\n",
    "from langchain_ollama import OllamaLLM, OllamaEmbeddings\n",
    "from langchain.schema import Document\n",
    "from langchain.retrievers import EnsembleRetriever\n",
    "from langchain_community.retrievers import BM25Retriever\n",
    "from langchain.chains import RetrievalQA\n",
    "from langchain.prompts import PromptTemplate\n",
    "from langchain.document_loaders import PDFPlumberLoader\n",
    "from tqdm.notebook import tqdm\n",
    "logger = logging.getLogger(__name__)\n",
    "\n",
    "\n",
    "\n"
   ]
  },
  {
   "cell_type": "code",
   "execution_count": 2,
   "id": "7fc7b436",
   "metadata": {},
   "outputs": [
    {
     "data": {
      "text/plain": [
       "[(WindowsPath('docsJuly/Official Statement posted 05-20-2025 (6.4 MB).pdf'),\n",
       "  6.39),\n",
       " (WindowsPath('docsJuly/P11871362-P11431791-P11876664.pdf'), 5.63)]"
      ]
     },
     "execution_count": 2,
     "metadata": {},
     "output_type": "execute_result"
    }
   ],
   "source": [
    "folder_path = \"docsJuly\"\n",
    "pdf_files = list(Path(folder_path).glob(\"*.pdf\"))\n",
    "[(f, round(f.stat().st_size/1024**2, 2)) for f in pdf_files]"
   ]
  },
  {
   "cell_type": "code",
   "execution_count": 3,
   "id": "da5e39a4",
   "metadata": {},
   "outputs": [],
   "source": [
    "metadata_path = \"./vector_db/metadata.json\"\n",
    "metadata_path = Path(metadata_path)\n",
    "metadata_path.parent.mkdir(parents=True, exist_ok=True)\n",
    "with open(metadata_path, 'r', encoding='utf-8') as f:\n",
    "    metadata = json.load(f)\n"
   ]
  },
  {
   "cell_type": "code",
   "execution_count": 15,
   "id": "6e8c0d13",
   "metadata": {},
   "outputs": [],
   "source": [
    "\n",
    "text_splitter = RecursiveCharacterTextSplitter(\n",
    "            chunk_size=1000,\n",
    "            chunk_overlap=200,\n",
    "            length_function=len,\n",
    "            separators=[\"\\n\\n\", \"\\n\", \" \", \"\"]\n",
    "        )"
   ]
  },
  {
   "cell_type": "code",
   "execution_count": 30,
   "id": "4fe27886",
   "metadata": {},
   "outputs": [
    {
     "name": "stderr",
     "output_type": "stream",
     "text": [
      "<>:1: SyntaxWarning: invalid escape sequence '\\O'\n",
      "<>:1: SyntaxWarning: invalid escape sequence '\\O'\n",
      "C:\\Users\\mamma\\AppData\\Local\\Temp\\ipykernel_25356\\147352169.py:1: SyntaxWarning: invalid escape sequence '\\O'\n",
      "  loader = PDFPlumberLoader(\"docsJuly\\Official Statement posted 05-20-2025 (6.4 MB).pdf\")\n"
     ]
    }
   ],
   "source": [
    "loader = PDFPlumberLoader(\"docsJuly\\Official Statement posted 05-20-2025 (6.4 MB).pdf\")"
   ]
  },
  {
   "cell_type": "code",
   "execution_count": 32,
   "id": "28bcd37e",
   "metadata": {},
   "outputs": [
    {
     "data": {
      "application/vnd.jupyter.widget-view+json": {
       "model_id": "ce512f6caf144e94936fead6073d6c09",
       "version_major": 2,
       "version_minor": 0
      },
      "text/plain": [
       "  0%|          | 0/2 [00:00<?, ?it/s]"
      ]
     },
     "metadata": {},
     "output_type": "display_data"
    },
    {
     "name": "stdout",
     "output_type": "stream",
     "text": [
      "docsJuly\\Official Statement posted 05-20-2025 (6.4 MB).pdf\n",
      "Extracted 115 pages from docsJuly\\Official Statement posted 05-20-2025 (6.4 MB).pdf\n",
      "Split into 476 chunks\n",
      "docsJuly\\P11871362-P11431791-P11876664.pdf\n",
      "Extracted 556 pages from docsJuly\\P11871362-P11431791-P11876664.pdf\n",
      "Split into 2357 chunks\n"
     ]
    }
   ],
   "source": [
    "docs = []\n",
    "for pdf_file in tqdm(pdf_files):\n",
    "    print(pdf_file)\n",
    "    loader = PDFPlumberLoader(pdf_file)\n",
    "    _doc = loader.load()\n",
    "    print(f\"Extracted {len(_doc)} pages from {pdf_file}\")\n",
    "    _doc = text_splitter.split_documents(_doc)\n",
    "    print(f\"Split into {len(_doc)} chunks\")\n",
    "    docs.extend(_doc)\n"
   ]
  },
  {
   "cell_type": "code",
   "execution_count": 35,
   "id": "c9c69ca6",
   "metadata": {},
   "outputs": [
    {
     "data": {
      "text/plain": [
       "{'source': 'docsJuly\\\\Official Statement posted 05-20-2025 (6.4 MB).pdf',\n",
       " 'file_path': 'docsJuly\\\\Official Statement posted 05-20-2025 (6.4 MB).pdf',\n",
       " 'page': 0,\n",
       " 'total_pages': 115,\n",
       " 'Author': 'Trenise L. Lewis',\n",
       " 'CreationDate': \"D:20250519171640-05'00'\",\n",
       " 'Creator': 'Microsoft® Word for Microsoft 365',\n",
       " 'ModDate': \"D:20250519171912-05'00'\",\n",
       " 'Producer': 'Microsoft® Word for Microsoft 365',\n",
       " 'Title': ''}"
      ]
     },
     "execution_count": 35,
     "metadata": {},
     "output_type": "execute_result"
    }
   ],
   "source": [
    "docs[0].metadata"
   ]
  },
  {
   "cell_type": "code",
   "execution_count": 18,
   "id": "4517a70b",
   "metadata": {},
   "outputs": [],
   "source": [
    "embeddings = OllamaEmbeddings(model=\"nomic-embed-text:latest\")\n",
    "vectorstore = FAISS.from_documents(docs, embeddings)\n",
    "vectorstore.save_local(\"vector_db\")"
   ]
  },
  {
   "cell_type": "code",
   "execution_count": 22,
   "id": "1a9414f9",
   "metadata": {},
   "outputs": [],
   "source": [
    "bm25_retriever = BM25Retriever.from_documents(docs)\n",
    "bm25_retriever.k = 4"
   ]
  },
  {
   "cell_type": "code",
   "execution_count": 23,
   "id": "865fecba",
   "metadata": {},
   "outputs": [],
   "source": [
    "hybrid_retriever = EnsembleRetriever(\n",
    "    retrievers=[bm25_retriever, vectorstore.as_retriever()],\n",
    "    weights=[0.5, 0.5]\n",
    ")"
   ]
  },
  {
   "cell_type": "code",
   "execution_count": 24,
   "id": "0707a1fa",
   "metadata": {},
   "outputs": [
    {
     "data": {
      "text/plain": [
       "[Document(metadata={'source': 'docsJuly\\\\P11871362-P11431791-P11876664.pdf', 'file_path': 'docsJuly\\\\P11871362-P11431791-P11876664.pdf', 'page': 434, 'total_pages': 556, 'CreationDate': \"D:20250702091603-04'00'\", 'Creator': 'PScript5.dll Version 5.2.2', 'ModDate': \"D:20250702190747-04'00'\", 'Producer': 'Acrobat Distiller 25.0 (Windows)', 'Title': ''}, page_content='Arbitrage. The Authority will make no use of the proceeds of the Bonds or of any\\nother amounts or property, regardless of the source, and will not take or omit any action, that would cause\\nany Tax-Exempt Bonds to be “arbitrage bonds” within the meaning of Section 148 of the Code;\\nFederal Guarantee. The Authority will make no use of the proceeds of any Tax-\\nExempt Bonds and not take or omit to take any action that would cause such Tax-Exempt Bonds to be\\n“federally guaranteed” within the meaning of Section 149(b) of the Code;\\nInformation Reporting. The Authority will take or cause to be taken all necessary\\naction to comply with the informational reporting requirements of Section 149(e) of the Code that are\\nnecessary to preserve the exclusion of interest on the Tax-Exempt Bonds pursuant to Section 103(a) of the\\nCode;\\nHedge Bonds. The Authority will make no use of the proceeds of Tax-Exempt'),\n",
       " Document(id='8325d79d-6b71-4bdf-9e69-44515b4061a0', metadata={'source': 'docsJuly\\\\Official Statement posted 05-20-2025 (6.4 MB).pdf', 'file_path': 'docsJuly\\\\Official Statement posted 05-20-2025 (6.4 MB).pdf', 'page': 6, 'total_pages': 115, 'Author': 'Trenise L. Lewis', 'CreationDate': \"D:20250519171640-05'00'\", 'Creator': 'Microsoft® Word for Microsoft 365', 'ModDate': \"D:20250519171912-05'00'\", 'Producer': 'Microsoft® Word for Microsoft 365', 'Title': ''}, page_content='The Term Bonds are also subject to mandatory sinking fund redemption as more fully\\ndescribed herein. See “THE BONDS—Redemption Provisions.”\\nUse of Proceeds... Proceeds of the Bonds will be used to finance road facilities as described herein under\\n“USE AND DISTRIBUTION OF BOND PROCEEDS.” In addition, Bond proceeds\\nwill be used to capitalize twenty-four (24) months of interest on the Bonds; to pay\\ninterest on funds advanced by the Developers on behalf of the District; to pay\\nengineering fees and administrative costs; and to pay certain other costs related to the\\nissuance of the Bonds. See “USE AND DISTRIBUTION OF BOND PROCEEDS.”\\nAuthority for Issuance... The Bonds are the first series of bonds issued out of an aggregate of $73,910,000\\nprincipal amount of unlimited tax bonds authorized by the District’s voters for the\\npurpose of constructing roads and related improvements and refunding such bonds. The\\nBonds are issued by the District pursuant to the terms and provisions of Article III,'),\n",
       " Document(metadata={'source': 'docsJuly\\\\Official Statement posted 05-20-2025 (6.4 MB).pdf', 'file_path': 'docsJuly\\\\Official Statement posted 05-20-2025 (6.4 MB).pdf', 'page': 17, 'total_pages': 115, 'Author': 'Trenise L. Lewis', 'CreationDate': \"D:20250519171640-05'00'\", 'Creator': 'Microsoft® Word for Microsoft 365', 'ModDate': \"D:20250519171912-05'00'\", 'Producer': 'Microsoft® Word for Microsoft 365', 'Title': ''}, page_content='facts and circumstances and reasonable expectations of the District on the date the Bonds are delivered and paid for\\nregarding the amount and use of the proceeds of the Bonds. Moreover, the District covenants in the Bond Resolution that it\\nshall make such use of the proceeds of the Bonds, regulate investment of proceeds of the Bonds, and take such other and\\nfurther actions and follow such procedures, including, without limitation, calculating the yield on the Bonds, as may be that\\nthe Bonds shall not become “arbitrage bonds” under the Code and the regulations prescribed from time to time thereunder.\\nFunds\\nIn the Bond Resolution, the Road Debt Service Fund is created and the proceeds from all taxes levied, appraised\\nand collected for and on account of the Bonds authorized by the Bond Resolution shall be deposited, as collected, in such\\nfund (the “Road Debt Service Fund”). The District shall also create a capital projects fund account for roads to deposit'),\n",
       " Document(id='aca68601-c7e7-4463-9ec9-e634a1b55aef', metadata={'source': 'docsJuly\\\\P11871362-P11431791-P11876664.pdf', 'file_path': 'docsJuly\\\\P11871362-P11431791-P11876664.pdf', 'page': 231, 'total_pages': 556, 'CreationDate': \"D:20250702091603-04'00'\", 'Creator': 'PScript5.dll Version 5.2.2', 'ModDate': \"D:20250702190747-04'00'\", 'Producer': 'Acrobat Distiller 25.0 (Windows)', 'Title': ''}, page_content='Proceeds from tax levy 201,532 197,828\\nProceeds from capital grants 10,241 —\\nTransfer from (to) escrow trust accounts 1,519 (961)\\nProceeds from sale of capital assets — 8,425\\nNet cash used in capital and related financing activities (278,186) (280,015)\\nCash Flows from Investing Activities:\\nPurchase of investment securities (3,031,924) (4,006,062)\\nProceeds from sales and maturities of investment securities 3,247,951 3,958,988\\nInvestment income 45,023 22,458\\nNet cash provided (used) by investing activities 261,050 (24,616)\\nNet change in cash (47) (324)\\nCash at July 1, 2023 and 2022 58 382\\nCash at June 30, 2024 and 2023 (Notes 1b and 3) $ 11 $ 58\\nSee accompanying notes to basic financial statements.\\n24'),\n",
       " Document(metadata={'source': 'docsJuly\\\\Official Statement posted 05-20-2025 (6.4 MB).pdf', 'file_path': 'docsJuly\\\\Official Statement posted 05-20-2025 (6.4 MB).pdf', 'page': 45, 'total_pages': 115, 'Author': 'Trenise L. Lewis', 'CreationDate': \"D:20250519171640-05'00'\", 'Creator': 'Microsoft® Word for Microsoft 365', 'ModDate': \"D:20250519171912-05'00'\", 'Producer': 'Microsoft® Word for Microsoft 365', 'Title': ''}, page_content='statement income of applicable corporations (as defined in section 59(k) of the Internal Revenue Code of 1986) for the\\npurpose of determining the alternative minimum tax imposed on corporations.\\nThe Code imposes a number of requirements that must be satisfied for interest on state or local obligations, such as\\nthe Bonds, to be excludable from gross income for federal income tax purposes. These requirements include limitations on\\nthe use of proceeds and the source of repayment, limitations on the investment of proceeds prior to expenditure, a\\nrequirement that excess arbitrage earned on the investment of proceeds be paid periodically to the United States and a\\nrequirement that the issuer file an information report with the Internal Revenue Service (the “Service”). The District has\\ncovenanted in the Bond Resolution that it will comply with these requirements.\\nBond Counsel’s opinion will assume continuing compliance with the covenants of the Bond Resolution pertaining'),\n",
       " Document(id='90c1fe73-8018-4cf1-988c-f545c127fa8f', metadata={'source': 'docsJuly\\\\Official Statement posted 05-20-2025 (6.4 MB).pdf', 'file_path': 'docsJuly\\\\Official Statement posted 05-20-2025 (6.4 MB).pdf', 'page': 73, 'total_pages': 115, 'Author': 'Trenise L. Lewis', 'CreationDate': \"D:20250519171640-05'00'\", 'Creator': 'Microsoft® Word for Microsoft 365', 'ModDate': \"D:20250519171912-05'00'\", 'Producer': 'Microsoft® Word for Microsoft 365', 'Title': ''}, page_content='refunds and uncollectible amounts, in the accounting period when an enforceable legal claim to the assets arises\\nand the use of resources is required or is first permitted.\\nFund Financial Statements\\nGovernmental funds are reported using the current financial resources measurement focus and the modified accrual\\nbasis of accounting. With this measurement focus, only current assets and liabilities are generally included on the\\nbalance sheet. The statement of governmental fund revenues, expenditures and changes in fund balance presents\\nincreases (revenues and other financing sources) and decreases (expenditures and other financing uses) in\\nspendable resources. General capital asset acquisitions are reported as expenditures and proceeds of long-term\\ndebt are reported as other financing sources. Under the modified accrual basis of accounting, revenues are\\nrecognized when both measurable and available. The District considers revenues reported in the governmental'),\n",
       " Document(metadata={'source': 'docsJuly\\\\P11871362-P11431791-P11876664.pdf', 'file_path': 'docsJuly\\\\P11871362-P11431791-P11876664.pdf', 'page': 46, 'total_pages': 556, 'CreationDate': \"D:20250702091603-04'00'\", 'Creator': 'PScript5.dll Version 5.2.2', 'ModDate': \"D:20250702190747-04'00'\", 'Producer': 'Acrobat Distiller 25.0 (Windows)', 'Title': ''}, page_content='computing the alternative minimum tax imposed on certain corporations under the Code to the extent that such\\ninterest is included in the “adjusted financial statement income” of such corporations.\\nIn rendering these opinions, Co-Bond Counsel have relied upon representations and covenants of the\\nAuthority, AVEK and Metropolitan in the Tax Certificate concerning the property financed with proceeds of\\nthe 2025 Bonds, the investment and use of proceeds of the 2025 Bonds and the rebate to the federal\\ngovernment of certain earnings thereon. In addition, Co-Bond Counsel have assumed that all such\\nrepresentations are true and correct and that the Authority, AVEK and Metropolitan will comply with such\\ncovenants. Co-Bond Counsel have expressed no opinion with respect to the exclusion of the interest on the\\n2025 Bonds from gross income under Section 103(a) of the Code in the event that any of such representations'),\n",
       " Document(id='5fd89a74-e5f1-40b2-9e48-d33c9ad49c22', metadata={'source': 'docsJuly\\\\Official Statement posted 05-20-2025 (6.4 MB).pdf', 'file_path': 'docsJuly\\\\Official Statement posted 05-20-2025 (6.4 MB).pdf', 'page': 73, 'total_pages': 115, 'Author': 'Trenise L. Lewis', 'CreationDate': \"D:20250519171640-05'00'\", 'Creator': 'Microsoft® Word for Microsoft 365', 'ModDate': \"D:20250519171912-05'00'\", 'Producer': 'Microsoft® Word for Microsoft 365', 'Title': ''}, page_content='accrual basis of accounting. Revenues are recorded when earned and expenses are recorded at the time liabilities\\nare incurred, regardless of the timing of related cash flows.\\nNonexchange transactions, in which the District receives (or gives) value without directly giving (or receiving) equal\\nvalue in exchange, include property taxes and donations. Recognition standards are based on the characteristics\\nand classes of nonexchange transactions. Revenues from property taxes are recognized in the period for which the\\ntaxes are levied. Donations are recognized as revenues, net of estimated uncollectible amounts, as soon as all\\neligibility requirements imposed by the provider have been met. Amounts received before all eligibility requirements\\nhave been met are reported as liabilities. Intergovernmental revenues are recognized as revenues, net of estimated\\nrefunds and uncollectible amounts, in the accounting period when an enforceable legal claim to the assets arises')]"
      ]
     },
     "execution_count": 24,
     "metadata": {},
     "output_type": "execute_result"
    }
   ],
   "source": [
    "hybrid_retriever.invoke(\"find use of proceeds\")"
   ]
  },
  {
   "cell_type": "code",
   "execution_count": null,
   "id": "bc4d1593",
   "metadata": {},
   "outputs": [],
   "source": [
    "\n",
    "def extract_text_from_pdf( pdf_path: str) -> str:\n",
    "    \"\"\"Extract text from a single PDF file.\"\"\"\n",
    "    try:\n",
    "        doc = fitz.open(pdf_path)\n",
    "        text = \"\"\n",
    "        for page in doc:\n",
    "            text += page.get_text()\n",
    "        doc.close()\n",
    "        return text\n",
    "    except Exception as e:\n",
    "        logger.error(f\"Error extracting text from {pdf_path}: {e}\")\n",
    "        return \"\""
   ]
  },
  {
   "cell_type": "code",
   "execution_count": null,
   "id": "39a2b344",
   "metadata": {},
   "outputs": [
    {
     "data": {
      "application/vnd.jupyter.widget-view+json": {
       "model_id": "d9296b3ee1ac4c6ca4c8ad3ca1a6692a",
       "version_major": 2,
       "version_minor": 0
      },
      "text/plain": [
       "PDFs:   0%|          | 0/2 [00:00<?, ?it/s]"
      ]
     },
     "metadata": {},
     "output_type": "display_data"
    },
    {
     "data": {
      "application/vnd.jupyter.widget-view+json": {
       "model_id": "88e6d14b5d624012875414921b5637b7",
       "version_major": 2,
       "version_minor": 0
      },
      "text/plain": [
       "chunks of PDF: 0it [00:00, ?it/s]"
      ]
     },
     "metadata": {},
     "output_type": "display_data"
    },
    {
     "data": {
      "application/vnd.jupyter.widget-view+json": {
       "model_id": "8cd76c8109a04219a7995debb4ffdaac",
       "version_major": 2,
       "version_minor": 0
      },
      "text/plain": [
       "chunks of PDF: 0it [00:00, ?it/s]"
      ]
     },
     "metadata": {},
     "output_type": "display_data"
    }
   ],
   "source": [
    "\n",
    "def vectorize_pdf(pdf_file):\n",
    "    text = extract_text_from_pdf(pdf_file)\n",
    "    documents = []\n",
    "    if text.strip():\n",
    "        chunks = text_splitter.split_text(text)\n",
    "        for i, chunk in tqdm(enumerate(chunks), desc=\"chunks of PDF\"):\n",
    "            doc = Document(\n",
    "                page_content=chunk,\n",
    "                metadata={\n",
    "                    # \"source\": str(pdf_file),\n",
    "                    \"filename\": pdf_file.name,\n",
    "                    \"chunk_id\": i\n",
    "                }\n",
    "            )\n",
    "        documents.append(doc)\n",
    "    return documents\n",
    "\n",
    "all_documents = []\n",
    "for pdf_file in tqdm(pdf_files, desc=\"PDFs\"):\n",
    "    documents = vectorize_pdf(pdf_file)\n",
    "    all_documents.extend(documents)\n"
   ]
  },
  {
   "cell_type": "code",
   "execution_count": 50,
   "id": "deaf2be4",
   "metadata": {},
   "outputs": [
    {
     "data": {
      "text/plain": [
       "Document(metadata={'filename': 'P11871362-P11431791-P11876664.pdf', 'chunk_id': 2228}, page_content='securities laws and official interpretations thereof. \\nTHE METROPOLITAN WATER DISTRICT \\nOF SOUTHERN CALIFORNIA \\nBy: ___________________________________ \\nKatano Kasaine \\nAssistant General Manager/ \\nChief Financial Officer \\nAPPROVED AS TO FORM: \\nMARCIA SCULLY, General Counsel \\nBy: ___________________________________ \\n \\n \\n \\n[ THIS PAGE INTENTIONALLY LEFT BLANK ]')"
      ]
     },
     "execution_count": 50,
     "metadata": {},
     "output_type": "execute_result"
    }
   ],
   "source": [
    "all_documents[-1]"
   ]
  },
  {
   "cell_type": "code",
   "execution_count": null,
   "id": "8e8038b7",
   "metadata": {},
   "outputs": [
    {
     "data": {
      "text/plain": [
       "[]"
      ]
     },
     "execution_count": 10,
     "metadata": {},
     "output_type": "execute_result"
    }
   ],
   "source": [
    "vector_db = FAISS.from_documents(all_documents, embeddings)"
   ]
  }
 ],
 "metadata": {
  "kernelspec": {
   "display_name": "langchain-env",
   "language": "python",
   "name": "python3"
  },
  "language_info": {
   "codemirror_mode": {
    "name": "ipython",
    "version": 3
   },
   "file_extension": ".py",
   "mimetype": "text/x-python",
   "name": "python",
   "nbconvert_exporter": "python",
   "pygments_lexer": "ipython3",
   "version": "3.12.11"
  }
 },
 "nbformat": 4,
 "nbformat_minor": 5
}
